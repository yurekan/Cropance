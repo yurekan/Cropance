{
  "nbformat": 4,
  "nbformat_minor": 0,
  "metadata": {
    "colab": {
      "provenance": [],
      "collapsed_sections": [],
      "mount_file_id": "1Pl-813Y-2dH10AIYdfFxPr10k07kkugb",
      "authorship_tag": "ABX9TyM973xeIlnXe+YkPRQdtCtI",
      "include_colab_link": true
    },
    "kernelspec": {
      "name": "python3",
      "display_name": "Python 3"
    },
    "language_info": {
      "name": "python"
    }
  },
  "cells": [
    {
      "cell_type": "markdown",
      "metadata": {
        "id": "view-in-github",
        "colab_type": "text"
      },
      "source": [
        "<a href=\"https://colab.research.google.com/github/yurekan/Cropance/blob/notebook/Crop_Yield_Prediction.ipynb\" target=\"_parent\"><img src=\"https://colab.research.google.com/assets/colab-badge.svg\" alt=\"Open In Colab\"/></a>"
      ]
    },
    {
      "cell_type": "code",
      "execution_count": null,
      "metadata": {
        "id": "HWxefmZzWTlS"
      },
      "outputs": [],
      "source": [
        "import numpy as np\n",
        "import pandas as pd\n",
        "import keras\n",
        "import os\n",
        "import tensorflow as tf\n",
        "from sklearn.preprocessing import StandardScaler, LabelEncoder\n",
        "from keras.models import Sequential\n",
        "from keras.layers import InputLayer, Dense, Dropout, Activation\n",
        "from keras.optimizers import SGD\n",
        "from sklearn.model_selection import train_test_split"
      ]
    },
    {
      "cell_type": "code",
      "source": [
        "data = pd.read_csv('/content/drive/MyDrive/Crop_recommendation.csv')\n",
        "data.head()"
      ],
      "metadata": {
        "colab": {
          "base_uri": "https://localhost:8080/",
          "height": 206
        },
        "id": "-W6rMn1Gjw92",
        "outputId": "1ed878ef-8d42-460c-9fa1-f7c52cff261d"
      },
      "execution_count": null,
      "outputs": [
        {
          "output_type": "execute_result",
          "data": {
            "text/plain": [
              "    N   P   K  temperature   humidity        ph    rainfall label\n",
              "0  90  42  43    20.879744  82.002744  6.502985  202.935536  rice\n",
              "1  85  58  41    21.770462  80.319644  7.038096  226.655537  rice\n",
              "2  60  55  44    23.004459  82.320763  7.840207  263.964248  rice\n",
              "3  74  35  40    26.491096  80.158363  6.980401  242.864034  rice\n",
              "4  78  42  42    20.130175  81.604873  7.628473  262.717340  rice"
            ],
            "text/html": [
              "\n",
              "  <div id=\"df-14ecc760-889a-4b2e-9746-584031144516\">\n",
              "    <div class=\"colab-df-container\">\n",
              "      <div>\n",
              "<style scoped>\n",
              "    .dataframe tbody tr th:only-of-type {\n",
              "        vertical-align: middle;\n",
              "    }\n",
              "\n",
              "    .dataframe tbody tr th {\n",
              "        vertical-align: top;\n",
              "    }\n",
              "\n",
              "    .dataframe thead th {\n",
              "        text-align: right;\n",
              "    }\n",
              "</style>\n",
              "<table border=\"1\" class=\"dataframe\">\n",
              "  <thead>\n",
              "    <tr style=\"text-align: right;\">\n",
              "      <th></th>\n",
              "      <th>N</th>\n",
              "      <th>P</th>\n",
              "      <th>K</th>\n",
              "      <th>temperature</th>\n",
              "      <th>humidity</th>\n",
              "      <th>ph</th>\n",
              "      <th>rainfall</th>\n",
              "      <th>label</th>\n",
              "    </tr>\n",
              "  </thead>\n",
              "  <tbody>\n",
              "    <tr>\n",
              "      <th>0</th>\n",
              "      <td>90</td>\n",
              "      <td>42</td>\n",
              "      <td>43</td>\n",
              "      <td>20.879744</td>\n",
              "      <td>82.002744</td>\n",
              "      <td>6.502985</td>\n",
              "      <td>202.935536</td>\n",
              "      <td>rice</td>\n",
              "    </tr>\n",
              "    <tr>\n",
              "      <th>1</th>\n",
              "      <td>85</td>\n",
              "      <td>58</td>\n",
              "      <td>41</td>\n",
              "      <td>21.770462</td>\n",
              "      <td>80.319644</td>\n",
              "      <td>7.038096</td>\n",
              "      <td>226.655537</td>\n",
              "      <td>rice</td>\n",
              "    </tr>\n",
              "    <tr>\n",
              "      <th>2</th>\n",
              "      <td>60</td>\n",
              "      <td>55</td>\n",
              "      <td>44</td>\n",
              "      <td>23.004459</td>\n",
              "      <td>82.320763</td>\n",
              "      <td>7.840207</td>\n",
              "      <td>263.964248</td>\n",
              "      <td>rice</td>\n",
              "    </tr>\n",
              "    <tr>\n",
              "      <th>3</th>\n",
              "      <td>74</td>\n",
              "      <td>35</td>\n",
              "      <td>40</td>\n",
              "      <td>26.491096</td>\n",
              "      <td>80.158363</td>\n",
              "      <td>6.980401</td>\n",
              "      <td>242.864034</td>\n",
              "      <td>rice</td>\n",
              "    </tr>\n",
              "    <tr>\n",
              "      <th>4</th>\n",
              "      <td>78</td>\n",
              "      <td>42</td>\n",
              "      <td>42</td>\n",
              "      <td>20.130175</td>\n",
              "      <td>81.604873</td>\n",
              "      <td>7.628473</td>\n",
              "      <td>262.717340</td>\n",
              "      <td>rice</td>\n",
              "    </tr>\n",
              "  </tbody>\n",
              "</table>\n",
              "</div>\n",
              "      <button class=\"colab-df-convert\" onclick=\"convertToInteractive('df-14ecc760-889a-4b2e-9746-584031144516')\"\n",
              "              title=\"Convert this dataframe to an interactive table.\"\n",
              "              style=\"display:none;\">\n",
              "        \n",
              "  <svg xmlns=\"http://www.w3.org/2000/svg\" height=\"24px\"viewBox=\"0 0 24 24\"\n",
              "       width=\"24px\">\n",
              "    <path d=\"M0 0h24v24H0V0z\" fill=\"none\"/>\n",
              "    <path d=\"M18.56 5.44l.94 2.06.94-2.06 2.06-.94-2.06-.94-.94-2.06-.94 2.06-2.06.94zm-11 1L8.5 8.5l.94-2.06 2.06-.94-2.06-.94L8.5 2.5l-.94 2.06-2.06.94zm10 10l.94 2.06.94-2.06 2.06-.94-2.06-.94-.94-2.06-.94 2.06-2.06.94z\"/><path d=\"M17.41 7.96l-1.37-1.37c-.4-.4-.92-.59-1.43-.59-.52 0-1.04.2-1.43.59L10.3 9.45l-7.72 7.72c-.78.78-.78 2.05 0 2.83L4 21.41c.39.39.9.59 1.41.59.51 0 1.02-.2 1.41-.59l7.78-7.78 2.81-2.81c.8-.78.8-2.07 0-2.86zM5.41 20L4 18.59l7.72-7.72 1.47 1.35L5.41 20z\"/>\n",
              "  </svg>\n",
              "      </button>\n",
              "      \n",
              "  <style>\n",
              "    .colab-df-container {\n",
              "      display:flex;\n",
              "      flex-wrap:wrap;\n",
              "      gap: 12px;\n",
              "    }\n",
              "\n",
              "    .colab-df-convert {\n",
              "      background-color: #E8F0FE;\n",
              "      border: none;\n",
              "      border-radius: 50%;\n",
              "      cursor: pointer;\n",
              "      display: none;\n",
              "      fill: #1967D2;\n",
              "      height: 32px;\n",
              "      padding: 0 0 0 0;\n",
              "      width: 32px;\n",
              "    }\n",
              "\n",
              "    .colab-df-convert:hover {\n",
              "      background-color: #E2EBFA;\n",
              "      box-shadow: 0px 1px 2px rgba(60, 64, 67, 0.3), 0px 1px 3px 1px rgba(60, 64, 67, 0.15);\n",
              "      fill: #174EA6;\n",
              "    }\n",
              "\n",
              "    [theme=dark] .colab-df-convert {\n",
              "      background-color: #3B4455;\n",
              "      fill: #D2E3FC;\n",
              "    }\n",
              "\n",
              "    [theme=dark] .colab-df-convert:hover {\n",
              "      background-color: #434B5C;\n",
              "      box-shadow: 0px 1px 3px 1px rgba(0, 0, 0, 0.15);\n",
              "      filter: drop-shadow(0px 1px 2px rgba(0, 0, 0, 0.3));\n",
              "      fill: #FFFFFF;\n",
              "    }\n",
              "  </style>\n",
              "\n",
              "      <script>\n",
              "        const buttonEl =\n",
              "          document.querySelector('#df-14ecc760-889a-4b2e-9746-584031144516 button.colab-df-convert');\n",
              "        buttonEl.style.display =\n",
              "          google.colab.kernel.accessAllowed ? 'block' : 'none';\n",
              "\n",
              "        async function convertToInteractive(key) {\n",
              "          const element = document.querySelector('#df-14ecc760-889a-4b2e-9746-584031144516');\n",
              "          const dataTable =\n",
              "            await google.colab.kernel.invokeFunction('convertToInteractive',\n",
              "                                                     [key], {});\n",
              "          if (!dataTable) return;\n",
              "\n",
              "          const docLinkHtml = 'Like what you see? Visit the ' +\n",
              "            '<a target=\"_blank\" href=https://colab.research.google.com/notebooks/data_table.ipynb>data table notebook</a>'\n",
              "            + ' to learn more about interactive tables.';\n",
              "          element.innerHTML = '';\n",
              "          dataTable['output_type'] = 'display_data';\n",
              "          await google.colab.output.renderOutput(dataTable, element);\n",
              "          const docLink = document.createElement('div');\n",
              "          docLink.innerHTML = docLinkHtml;\n",
              "          element.appendChild(docLink);\n",
              "        }\n",
              "      </script>\n",
              "    </div>\n",
              "  </div>\n",
              "  "
            ]
          },
          "metadata": {},
          "execution_count": 3
        }
      ]
    },
    {
      "cell_type": "code",
      "source": [
        "data.info()"
      ],
      "metadata": {
        "colab": {
          "base_uri": "https://localhost:8080/"
        },
        "id": "r810tFBCkf6k",
        "outputId": "1414d88b-ece0-40c5-a196-2930e0dc2b85"
      },
      "execution_count": null,
      "outputs": [
        {
          "output_type": "stream",
          "name": "stdout",
          "text": [
            "<class 'pandas.core.frame.DataFrame'>\n",
            "RangeIndex: 2200 entries, 0 to 2199\n",
            "Data columns (total 8 columns):\n",
            " #   Column       Non-Null Count  Dtype  \n",
            "---  ------       --------------  -----  \n",
            " 0   N            2200 non-null   int64  \n",
            " 1   P            2200 non-null   int64  \n",
            " 2   K            2200 non-null   int64  \n",
            " 3   temperature  2200 non-null   float64\n",
            " 4   humidity     2200 non-null   float64\n",
            " 5   ph           2200 non-null   float64\n",
            " 6   rainfall     2200 non-null   float64\n",
            " 7   label        2200 non-null   object \n",
            "dtypes: float64(4), int64(3), object(1)\n",
            "memory usage: 137.6+ KB\n"
          ]
        }
      ]
    },
    {
      "cell_type": "code",
      "source": [
        "data.describe()"
      ],
      "metadata": {
        "colab": {
          "base_uri": "https://localhost:8080/",
          "height": 300
        },
        "id": "19D4nc-GLMv2",
        "outputId": "3ca67684-b636-44a4-da9b-247fb22c3fe7"
      },
      "execution_count": null,
      "outputs": [
        {
          "output_type": "execute_result",
          "data": {
            "text/plain": [
              "                 N            P            K  temperature     humidity  \\\n",
              "count  2200.000000  2200.000000  2200.000000  2200.000000  2200.000000   \n",
              "mean     50.551818    53.362727    48.149091    25.616244    71.481779   \n",
              "std      36.917334    32.985883    50.647931     5.063749    22.263812   \n",
              "min       0.000000     5.000000     5.000000     8.825675    14.258040   \n",
              "25%      21.000000    28.000000    20.000000    22.769375    60.261953   \n",
              "50%      37.000000    51.000000    32.000000    25.598693    80.473146   \n",
              "75%      84.250000    68.000000    49.000000    28.561654    89.948771   \n",
              "max     140.000000   145.000000   205.000000    43.675493    99.981876   \n",
              "\n",
              "                ph     rainfall  \n",
              "count  2200.000000  2200.000000  \n",
              "mean      6.469480   103.463655  \n",
              "std       0.773938    54.958389  \n",
              "min       3.504752    20.211267  \n",
              "25%       5.971693    64.551686  \n",
              "50%       6.425045    94.867624  \n",
              "75%       6.923643   124.267508  \n",
              "max       9.935091   298.560117  "
            ],
            "text/html": [
              "\n",
              "  <div id=\"df-fbaabbe5-09f0-4d19-9d78-7b8c462dc2d7\">\n",
              "    <div class=\"colab-df-container\">\n",
              "      <div>\n",
              "<style scoped>\n",
              "    .dataframe tbody tr th:only-of-type {\n",
              "        vertical-align: middle;\n",
              "    }\n",
              "\n",
              "    .dataframe tbody tr th {\n",
              "        vertical-align: top;\n",
              "    }\n",
              "\n",
              "    .dataframe thead th {\n",
              "        text-align: right;\n",
              "    }\n",
              "</style>\n",
              "<table border=\"1\" class=\"dataframe\">\n",
              "  <thead>\n",
              "    <tr style=\"text-align: right;\">\n",
              "      <th></th>\n",
              "      <th>N</th>\n",
              "      <th>P</th>\n",
              "      <th>K</th>\n",
              "      <th>temperature</th>\n",
              "      <th>humidity</th>\n",
              "      <th>ph</th>\n",
              "      <th>rainfall</th>\n",
              "    </tr>\n",
              "  </thead>\n",
              "  <tbody>\n",
              "    <tr>\n",
              "      <th>count</th>\n",
              "      <td>2200.000000</td>\n",
              "      <td>2200.000000</td>\n",
              "      <td>2200.000000</td>\n",
              "      <td>2200.000000</td>\n",
              "      <td>2200.000000</td>\n",
              "      <td>2200.000000</td>\n",
              "      <td>2200.000000</td>\n",
              "    </tr>\n",
              "    <tr>\n",
              "      <th>mean</th>\n",
              "      <td>50.551818</td>\n",
              "      <td>53.362727</td>\n",
              "      <td>48.149091</td>\n",
              "      <td>25.616244</td>\n",
              "      <td>71.481779</td>\n",
              "      <td>6.469480</td>\n",
              "      <td>103.463655</td>\n",
              "    </tr>\n",
              "    <tr>\n",
              "      <th>std</th>\n",
              "      <td>36.917334</td>\n",
              "      <td>32.985883</td>\n",
              "      <td>50.647931</td>\n",
              "      <td>5.063749</td>\n",
              "      <td>22.263812</td>\n",
              "      <td>0.773938</td>\n",
              "      <td>54.958389</td>\n",
              "    </tr>\n",
              "    <tr>\n",
              "      <th>min</th>\n",
              "      <td>0.000000</td>\n",
              "      <td>5.000000</td>\n",
              "      <td>5.000000</td>\n",
              "      <td>8.825675</td>\n",
              "      <td>14.258040</td>\n",
              "      <td>3.504752</td>\n",
              "      <td>20.211267</td>\n",
              "    </tr>\n",
              "    <tr>\n",
              "      <th>25%</th>\n",
              "      <td>21.000000</td>\n",
              "      <td>28.000000</td>\n",
              "      <td>20.000000</td>\n",
              "      <td>22.769375</td>\n",
              "      <td>60.261953</td>\n",
              "      <td>5.971693</td>\n",
              "      <td>64.551686</td>\n",
              "    </tr>\n",
              "    <tr>\n",
              "      <th>50%</th>\n",
              "      <td>37.000000</td>\n",
              "      <td>51.000000</td>\n",
              "      <td>32.000000</td>\n",
              "      <td>25.598693</td>\n",
              "      <td>80.473146</td>\n",
              "      <td>6.425045</td>\n",
              "      <td>94.867624</td>\n",
              "    </tr>\n",
              "    <tr>\n",
              "      <th>75%</th>\n",
              "      <td>84.250000</td>\n",
              "      <td>68.000000</td>\n",
              "      <td>49.000000</td>\n",
              "      <td>28.561654</td>\n",
              "      <td>89.948771</td>\n",
              "      <td>6.923643</td>\n",
              "      <td>124.267508</td>\n",
              "    </tr>\n",
              "    <tr>\n",
              "      <th>max</th>\n",
              "      <td>140.000000</td>\n",
              "      <td>145.000000</td>\n",
              "      <td>205.000000</td>\n",
              "      <td>43.675493</td>\n",
              "      <td>99.981876</td>\n",
              "      <td>9.935091</td>\n",
              "      <td>298.560117</td>\n",
              "    </tr>\n",
              "  </tbody>\n",
              "</table>\n",
              "</div>\n",
              "      <button class=\"colab-df-convert\" onclick=\"convertToInteractive('df-fbaabbe5-09f0-4d19-9d78-7b8c462dc2d7')\"\n",
              "              title=\"Convert this dataframe to an interactive table.\"\n",
              "              style=\"display:none;\">\n",
              "        \n",
              "  <svg xmlns=\"http://www.w3.org/2000/svg\" height=\"24px\"viewBox=\"0 0 24 24\"\n",
              "       width=\"24px\">\n",
              "    <path d=\"M0 0h24v24H0V0z\" fill=\"none\"/>\n",
              "    <path d=\"M18.56 5.44l.94 2.06.94-2.06 2.06-.94-2.06-.94-.94-2.06-.94 2.06-2.06.94zm-11 1L8.5 8.5l.94-2.06 2.06-.94-2.06-.94L8.5 2.5l-.94 2.06-2.06.94zm10 10l.94 2.06.94-2.06 2.06-.94-2.06-.94-.94-2.06-.94 2.06-2.06.94z\"/><path d=\"M17.41 7.96l-1.37-1.37c-.4-.4-.92-.59-1.43-.59-.52 0-1.04.2-1.43.59L10.3 9.45l-7.72 7.72c-.78.78-.78 2.05 0 2.83L4 21.41c.39.39.9.59 1.41.59.51 0 1.02-.2 1.41-.59l7.78-7.78 2.81-2.81c.8-.78.8-2.07 0-2.86zM5.41 20L4 18.59l7.72-7.72 1.47 1.35L5.41 20z\"/>\n",
              "  </svg>\n",
              "      </button>\n",
              "      \n",
              "  <style>\n",
              "    .colab-df-container {\n",
              "      display:flex;\n",
              "      flex-wrap:wrap;\n",
              "      gap: 12px;\n",
              "    }\n",
              "\n",
              "    .colab-df-convert {\n",
              "      background-color: #E8F0FE;\n",
              "      border: none;\n",
              "      border-radius: 50%;\n",
              "      cursor: pointer;\n",
              "      display: none;\n",
              "      fill: #1967D2;\n",
              "      height: 32px;\n",
              "      padding: 0 0 0 0;\n",
              "      width: 32px;\n",
              "    }\n",
              "\n",
              "    .colab-df-convert:hover {\n",
              "      background-color: #E2EBFA;\n",
              "      box-shadow: 0px 1px 2px rgba(60, 64, 67, 0.3), 0px 1px 3px 1px rgba(60, 64, 67, 0.15);\n",
              "      fill: #174EA6;\n",
              "    }\n",
              "\n",
              "    [theme=dark] .colab-df-convert {\n",
              "      background-color: #3B4455;\n",
              "      fill: #D2E3FC;\n",
              "    }\n",
              "\n",
              "    [theme=dark] .colab-df-convert:hover {\n",
              "      background-color: #434B5C;\n",
              "      box-shadow: 0px 1px 3px 1px rgba(0, 0, 0, 0.15);\n",
              "      filter: drop-shadow(0px 1px 2px rgba(0, 0, 0, 0.3));\n",
              "      fill: #FFFFFF;\n",
              "    }\n",
              "  </style>\n",
              "\n",
              "      <script>\n",
              "        const buttonEl =\n",
              "          document.querySelector('#df-fbaabbe5-09f0-4d19-9d78-7b8c462dc2d7 button.colab-df-convert');\n",
              "        buttonEl.style.display =\n",
              "          google.colab.kernel.accessAllowed ? 'block' : 'none';\n",
              "\n",
              "        async function convertToInteractive(key) {\n",
              "          const element = document.querySelector('#df-fbaabbe5-09f0-4d19-9d78-7b8c462dc2d7');\n",
              "          const dataTable =\n",
              "            await google.colab.kernel.invokeFunction('convertToInteractive',\n",
              "                                                     [key], {});\n",
              "          if (!dataTable) return;\n",
              "\n",
              "          const docLinkHtml = 'Like what you see? Visit the ' +\n",
              "            '<a target=\"_blank\" href=https://colab.research.google.com/notebooks/data_table.ipynb>data table notebook</a>'\n",
              "            + ' to learn more about interactive tables.';\n",
              "          element.innerHTML = '';\n",
              "          dataTable['output_type'] = 'display_data';\n",
              "          await google.colab.output.renderOutput(dataTable, element);\n",
              "          const docLink = document.createElement('div');\n",
              "          docLink.innerHTML = docLinkHtml;\n",
              "          element.appendChild(docLink);\n",
              "        }\n",
              "      </script>\n",
              "    </div>\n",
              "  </div>\n",
              "  "
            ]
          },
          "metadata": {},
          "execution_count": 5
        }
      ]
    },
    {
      "cell_type": "code",
      "source": [
        "target = data['label'].unique()\n",
        "target"
      ],
      "metadata": {
        "colab": {
          "base_uri": "https://localhost:8080/"
        },
        "id": "hg6ilYAgkkq9",
        "outputId": "0660fd7a-1641-4f8f-a878-0e183ac15903"
      },
      "execution_count": null,
      "outputs": [
        {
          "output_type": "execute_result",
          "data": {
            "text/plain": [
              "array(['rice', 'maize', 'chickpea', 'kidneybeans', 'pigeonpeas',\n",
              "       'mothbeans', 'mungbean', 'blackgram', 'lentil', 'pomegranate',\n",
              "       'banana', 'mango', 'grapes', 'watermelon', 'muskmelon', 'apple',\n",
              "       'orange', 'papaya', 'coconut', 'cotton', 'jute', 'coffee'],\n",
              "      dtype=object)"
            ]
          },
          "metadata": {},
          "execution_count": 6
        }
      ]
    },
    {
      "cell_type": "code",
      "source": [
        "le = LabelEncoder()\n",
        "le.fit(data.label)\n",
        "data['label'] = le.transform(data.label)"
      ],
      "metadata": {
        "id": "TGx6-VWEku-k"
      },
      "execution_count": null,
      "outputs": []
    },
    {
      "cell_type": "code",
      "source": [
        "data['label'].unique()"
      ],
      "metadata": {
        "colab": {
          "base_uri": "https://localhost:8080/"
        },
        "id": "nFHzfkG6lr71",
        "outputId": "f9ebe626-6ea8-4ca3-c351-20e1920e8bfb"
      },
      "execution_count": null,
      "outputs": [
        {
          "output_type": "execute_result",
          "data": {
            "text/plain": [
              "array([20, 11,  3,  9, 18, 13, 14,  2, 10, 19,  1, 12,  7, 21, 15,  0, 16,\n",
              "       17,  4,  6,  8,  5])"
            ]
          },
          "metadata": {},
          "execution_count": 10
        }
      ]
    },
    {
      "cell_type": "code",
      "source": [
        "label_mapping = dict(zip(le.classes_, le.transform(le.classes_)))\n",
        "label_mapping"
      ],
      "metadata": {
        "colab": {
          "base_uri": "https://localhost:8080/"
        },
        "id": "Qzpo6gcvl5ab",
        "outputId": "ea52af9c-1b48-4a0c-f3c0-07f56a3b6ff4"
      },
      "execution_count": null,
      "outputs": [
        {
          "output_type": "execute_result",
          "data": {
            "text/plain": [
              "{'apple': 0,\n",
              " 'banana': 1,\n",
              " 'blackgram': 2,\n",
              " 'chickpea': 3,\n",
              " 'coconut': 4,\n",
              " 'coffee': 5,\n",
              " 'cotton': 6,\n",
              " 'grapes': 7,\n",
              " 'jute': 8,\n",
              " 'kidneybeans': 9,\n",
              " 'lentil': 10,\n",
              " 'maize': 11,\n",
              " 'mango': 12,\n",
              " 'mothbeans': 13,\n",
              " 'mungbean': 14,\n",
              " 'muskmelon': 15,\n",
              " 'orange': 16,\n",
              " 'papaya': 17,\n",
              " 'pigeonpeas': 18,\n",
              " 'pomegranate': 19,\n",
              " 'rice': 20,\n",
              " 'watermelon': 21}"
            ]
          },
          "metadata": {},
          "execution_count": 11
        }
      ]
    },
    {
      "cell_type": "code",
      "source": [
        "X_data = data.iloc[:,0:7].to_numpy()\n",
        "y_data = data['label'].to_numpy()"
      ],
      "metadata": {
        "id": "vWhskNfLpvnc"
      },
      "execution_count": null,
      "outputs": []
    },
    {
      "cell_type": "code",
      "source": [
        "y_data_temp = np.zeros((len(y_data), len(label_mapping)))\n",
        "for i in range(len(y_data)):\n",
        "  y_data_temp[i,y_data[i]] = 1"
      ],
      "metadata": {
        "id": "rhIaSlHLqJhs"
      },
      "execution_count": null,
      "outputs": []
    },
    {
      "cell_type": "code",
      "source": [
        "y_data_temp"
      ],
      "metadata": {
        "colab": {
          "base_uri": "https://localhost:8080/"
        },
        "id": "P7KJs_1Np6N8",
        "outputId": "3a1136c0-d849-4196-c804-e30e184f7620"
      },
      "execution_count": null,
      "outputs": [
        {
          "output_type": "execute_result",
          "data": {
            "text/plain": [
              "array([[0., 0., 0., ..., 0., 1., 0.],\n",
              "       [0., 0., 0., ..., 0., 1., 0.],\n",
              "       [0., 0., 0., ..., 0., 1., 0.],\n",
              "       ...,\n",
              "       [0., 0., 0., ..., 0., 0., 0.],\n",
              "       [0., 0., 0., ..., 0., 0., 0.],\n",
              "       [0., 0., 0., ..., 0., 0., 0.]])"
            ]
          },
          "metadata": {},
          "execution_count": 14
        }
      ]
    },
    {
      "cell_type": "code",
      "source": [
        "X_train, X_test, y_train, y_test = train_test_split(X_data, y_data_temp, test_size=0.3, random_state=42)"
      ],
      "metadata": {
        "id": "5MlsAOX-mr9O"
      },
      "execution_count": null,
      "outputs": []
    },
    {
      "cell_type": "code",
      "source": [
        "scaler = StandardScaler()\n",
        "X_train_scaled = scaler.fit_transform(X_train)\n",
        "X_test_scaled = scaler.fit_transform(X_test)"
      ],
      "metadata": {
        "id": "2V50_rl9fYg2"
      },
      "execution_count": null,
      "outputs": []
    },
    {
      "cell_type": "code",
      "source": [
        "model = Sequential()\n",
        "\n",
        "model.add(Dense(64, input_dim=len(X_train[0,:]), activation='tanh'))\n",
        "model.add(Dense(128, activation='relu'))\n",
        "model.add(Dense(128, activation='relu'))\n",
        "model.add(Dense(128, activation='relu'))\n",
        "model.add(Dense(22, activation='softmax'))"
      ],
      "metadata": {
        "id": "JoPK0MwvpGwc"
      },
      "execution_count": null,
      "outputs": []
    },
    {
      "cell_type": "code",
      "source": [
        "model.compile(\n",
        "    loss=tf.keras.losses.categorical_crossentropy,\n",
        "    optimizer=tf.keras.optimizers.Adam(learning_rate=0.001),\n",
        "    metrics=[\n",
        "        tf.keras.metrics.CategoricalAccuracy(name='accuracy'),\n",
        "        tf.keras.metrics.Precision(name='precision'),\n",
        "        tf.keras.metrics.Recall(name='recall')\n",
        "    ]\n",
        ")"
      ],
      "metadata": {
        "id": "cwRxwxKihJ2g"
      },
      "execution_count": null,
      "outputs": []
    },
    {
      "cell_type": "code",
      "source": [
        "model.summary()"
      ],
      "metadata": {
        "colab": {
          "base_uri": "https://localhost:8080/"
        },
        "id": "NdLHcyMiJ_le",
        "outputId": "25162401-613e-4b80-d967-bb1039356c37"
      },
      "execution_count": null,
      "outputs": [
        {
          "output_type": "stream",
          "name": "stdout",
          "text": [
            "Model: \"sequential\"\n",
            "_________________________________________________________________\n",
            " Layer (type)                Output Shape              Param #   \n",
            "=================================================================\n",
            " dense (Dense)               (None, 64)                512       \n",
            "                                                                 \n",
            " dense_1 (Dense)             (None, 128)               8320      \n",
            "                                                                 \n",
            " dense_2 (Dense)             (None, 128)               16512     \n",
            "                                                                 \n",
            " dense_3 (Dense)             (None, 128)               16512     \n",
            "                                                                 \n",
            " dense_4 (Dense)             (None, 22)                2838      \n",
            "                                                                 \n",
            "=================================================================\n",
            "Total params: 44,694\n",
            "Trainable params: 44,694\n",
            "Non-trainable params: 0\n",
            "_________________________________________________________________\n"
          ]
        }
      ]
    },
    {
      "cell_type": "code",
      "source": [
        "model.fit(X_train, y_train, epochs=50)"
      ],
      "metadata": {
        "colab": {
          "base_uri": "https://localhost:8080/"
        },
        "id": "2zwlY6PtwAiO",
        "outputId": "abd3c1c5-56c9-4a21-dd14-4907ee35f07f"
      },
      "execution_count": null,
      "outputs": [
        {
          "output_type": "stream",
          "name": "stdout",
          "text": [
            "Epoch 1/50\n",
            "49/49 [==============================] - 1s 4ms/step - loss: 1.9537 - accuracy: 0.5084 - precision: 0.9509 - recall: 0.1383\n",
            "Epoch 2/50\n",
            "49/49 [==============================] - 0s 4ms/step - loss: 0.5945 - accuracy: 0.8052 - precision: 0.9136 - recall: 0.6935\n",
            "Epoch 3/50\n",
            "49/49 [==============================] - 0s 4ms/step - loss: 0.3723 - accuracy: 0.8818 - precision: 0.9188 - recall: 0.8299\n",
            "Epoch 4/50\n",
            "49/49 [==============================] - 0s 4ms/step - loss: 0.3121 - accuracy: 0.8948 - precision: 0.9173 - recall: 0.8721\n",
            "Epoch 5/50\n",
            "49/49 [==============================] - 0s 4ms/step - loss: 0.2354 - accuracy: 0.9162 - precision: 0.9317 - recall: 0.9039\n",
            "Epoch 6/50\n",
            "49/49 [==============================] - 0s 4ms/step - loss: 0.2269 - accuracy: 0.9221 - precision: 0.9354 - recall: 0.9032\n",
            "Epoch 7/50\n",
            "49/49 [==============================] - 0s 4ms/step - loss: 0.1749 - accuracy: 0.9383 - precision: 0.9439 - recall: 0.9292\n",
            "Epoch 8/50\n",
            "49/49 [==============================] - 0s 4ms/step - loss: 0.1654 - accuracy: 0.9403 - precision: 0.9455 - recall: 0.9357\n",
            "Epoch 9/50\n",
            "49/49 [==============================] - 0s 4ms/step - loss: 0.1843 - accuracy: 0.9357 - precision: 0.9397 - recall: 0.9312\n",
            "Epoch 10/50\n",
            "49/49 [==============================] - 0s 4ms/step - loss: 0.1532 - accuracy: 0.9448 - precision: 0.9514 - recall: 0.9416\n",
            "Epoch 11/50\n",
            "49/49 [==============================] - 0s 4ms/step - loss: 0.1486 - accuracy: 0.9468 - precision: 0.9540 - recall: 0.9422\n",
            "Epoch 12/50\n",
            "49/49 [==============================] - 0s 4ms/step - loss: 0.1330 - accuracy: 0.9409 - precision: 0.9450 - recall: 0.9377\n",
            "Epoch 13/50\n",
            "49/49 [==============================] - 0s 4ms/step - loss: 0.1545 - accuracy: 0.9383 - precision: 0.9394 - recall: 0.9364\n",
            "Epoch 14/50\n",
            "49/49 [==============================] - 0s 4ms/step - loss: 0.1447 - accuracy: 0.9468 - precision: 0.9515 - recall: 0.9422\n",
            "Epoch 15/50\n",
            "49/49 [==============================] - 0s 4ms/step - loss: 0.1283 - accuracy: 0.9552 - precision: 0.9576 - recall: 0.9532\n",
            "Epoch 16/50\n",
            "49/49 [==============================] - 0s 5ms/step - loss: 0.1537 - accuracy: 0.9409 - precision: 0.9438 - recall: 0.9370\n",
            "Epoch 17/50\n",
            "49/49 [==============================] - 0s 4ms/step - loss: 0.1189 - accuracy: 0.9519 - precision: 0.9556 - recall: 0.9500\n",
            "Epoch 18/50\n",
            "49/49 [==============================] - 0s 4ms/step - loss: 0.1206 - accuracy: 0.9552 - precision: 0.9601 - recall: 0.9526\n",
            "Epoch 19/50\n",
            "49/49 [==============================] - 0s 4ms/step - loss: 0.1176 - accuracy: 0.9526 - precision: 0.9555 - recall: 0.9487\n",
            "Epoch 20/50\n",
            "49/49 [==============================] - 0s 4ms/step - loss: 0.1070 - accuracy: 0.9597 - precision: 0.9641 - recall: 0.9584\n",
            "Epoch 21/50\n",
            "49/49 [==============================] - 0s 4ms/step - loss: 0.1133 - accuracy: 0.9578 - precision: 0.9602 - recall: 0.9552\n",
            "Epoch 22/50\n",
            "49/49 [==============================] - 0s 4ms/step - loss: 0.1090 - accuracy: 0.9610 - precision: 0.9641 - recall: 0.9591\n",
            "Epoch 23/50\n",
            "49/49 [==============================] - 0s 4ms/step - loss: 0.0892 - accuracy: 0.9623 - precision: 0.9673 - recall: 0.9597\n",
            "Epoch 24/50\n",
            "49/49 [==============================] - 0s 4ms/step - loss: 0.1566 - accuracy: 0.9455 - precision: 0.9496 - recall: 0.9422\n",
            "Epoch 25/50\n",
            "49/49 [==============================] - 0s 4ms/step - loss: 0.1193 - accuracy: 0.9526 - precision: 0.9575 - recall: 0.9500\n",
            "Epoch 26/50\n",
            "49/49 [==============================] - 0s 4ms/step - loss: 0.1612 - accuracy: 0.9474 - precision: 0.9492 - recall: 0.9455\n",
            "Epoch 27/50\n",
            "49/49 [==============================] - 0s 4ms/step - loss: 0.1301 - accuracy: 0.9474 - precision: 0.9498 - recall: 0.9468\n",
            "Epoch 28/50\n",
            "49/49 [==============================] - 0s 4ms/step - loss: 0.1055 - accuracy: 0.9591 - precision: 0.9603 - recall: 0.9571\n",
            "Epoch 29/50\n",
            "49/49 [==============================] - 0s 4ms/step - loss: 0.1360 - accuracy: 0.9578 - precision: 0.9602 - recall: 0.9565\n",
            "Epoch 30/50\n",
            "49/49 [==============================] - 0s 4ms/step - loss: 0.1484 - accuracy: 0.9513 - precision: 0.9519 - recall: 0.9506\n",
            "Epoch 31/50\n",
            "49/49 [==============================] - 0s 4ms/step - loss: 0.0957 - accuracy: 0.9656 - precision: 0.9674 - recall: 0.9649\n",
            "Epoch 32/50\n",
            "49/49 [==============================] - 0s 4ms/step - loss: 0.1073 - accuracy: 0.9597 - precision: 0.9596 - recall: 0.9571\n",
            "Epoch 33/50\n",
            "49/49 [==============================] - 0s 4ms/step - loss: 0.0848 - accuracy: 0.9675 - precision: 0.9681 - recall: 0.9656\n",
            "Epoch 34/50\n",
            "49/49 [==============================] - 0s 4ms/step - loss: 0.0780 - accuracy: 0.9669 - precision: 0.9687 - recall: 0.9649\n",
            "Epoch 35/50\n",
            "49/49 [==============================] - 0s 4ms/step - loss: 0.0781 - accuracy: 0.9734 - precision: 0.9740 - recall: 0.9727\n",
            "Epoch 36/50\n",
            "49/49 [==============================] - 0s 4ms/step - loss: 0.0835 - accuracy: 0.9688 - precision: 0.9695 - recall: 0.9688\n",
            "Epoch 37/50\n",
            "49/49 [==============================] - 0s 4ms/step - loss: 0.0764 - accuracy: 0.9695 - precision: 0.9700 - recall: 0.9656\n",
            "Epoch 38/50\n",
            "49/49 [==============================] - 0s 4ms/step - loss: 0.1050 - accuracy: 0.9662 - precision: 0.9669 - recall: 0.9662\n",
            "Epoch 39/50\n",
            "49/49 [==============================] - 0s 4ms/step - loss: 0.0652 - accuracy: 0.9753 - precision: 0.9772 - recall: 0.9721\n",
            "Epoch 40/50\n",
            "49/49 [==============================] - 0s 4ms/step - loss: 0.0635 - accuracy: 0.9734 - precision: 0.9740 - recall: 0.9714\n",
            "Epoch 41/50\n",
            "49/49 [==============================] - 0s 4ms/step - loss: 0.0667 - accuracy: 0.9766 - precision: 0.9773 - recall: 0.9766\n",
            "Epoch 42/50\n",
            "49/49 [==============================] - 0s 4ms/step - loss: 0.0877 - accuracy: 0.9656 - precision: 0.9668 - recall: 0.9649\n",
            "Epoch 43/50\n",
            "49/49 [==============================] - 0s 4ms/step - loss: 0.0930 - accuracy: 0.9675 - precision: 0.9682 - recall: 0.9675\n",
            "Epoch 44/50\n",
            "49/49 [==============================] - 0s 4ms/step - loss: 0.0888 - accuracy: 0.9682 - precision: 0.9682 - recall: 0.9675\n",
            "Epoch 45/50\n",
            "49/49 [==============================] - 0s 4ms/step - loss: 0.0624 - accuracy: 0.9773 - precision: 0.9773 - recall: 0.9766\n",
            "Epoch 46/50\n",
            "49/49 [==============================] - 0s 4ms/step - loss: 0.0833 - accuracy: 0.9695 - precision: 0.9701 - recall: 0.9682\n",
            "Epoch 47/50\n",
            "49/49 [==============================] - 0s 4ms/step - loss: 0.1062 - accuracy: 0.9649 - precision: 0.9668 - recall: 0.9643\n",
            "Epoch 48/50\n",
            "49/49 [==============================] - 0s 4ms/step - loss: 0.1074 - accuracy: 0.9636 - precision: 0.9636 - recall: 0.9630\n",
            "Epoch 49/50\n",
            "49/49 [==============================] - 0s 4ms/step - loss: 0.0816 - accuracy: 0.9714 - precision: 0.9721 - recall: 0.9714\n",
            "Epoch 50/50\n",
            "49/49 [==============================] - 0s 4ms/step - loss: 0.0675 - accuracy: 0.9747 - precision: 0.9747 - recall: 0.9740\n"
          ]
        },
        {
          "output_type": "execute_result",
          "data": {
            "text/plain": [
              "<keras.callbacks.History at 0x7f15d04c49d0>"
            ]
          },
          "metadata": {},
          "execution_count": 20
        }
      ]
    },
    {
      "cell_type": "code",
      "source": [
        "!pip install h5py pyyaml"
      ],
      "metadata": {
        "colab": {
          "base_uri": "https://localhost:8080/"
        },
        "id": "OfyDN_NuSLkd",
        "outputId": "7f46bff8-b5ca-4f5c-8418-6a06ce1c7fed"
      },
      "execution_count": null,
      "outputs": [
        {
          "output_type": "stream",
          "name": "stdout",
          "text": [
            "Looking in indexes: https://pypi.org/simple, https://us-python.pkg.dev/colab-wheels/public/simple/\n",
            "Requirement already satisfied: h5py in /usr/local/lib/python3.7/dist-packages (3.1.0)\n",
            "Requirement already satisfied: pyyaml in /usr/local/lib/python3.7/dist-packages (6.0)\n",
            "Requirement already satisfied: numpy>=1.14.5 in /usr/local/lib/python3.7/dist-packages (from h5py) (1.21.6)\n",
            "Requirement already satisfied: cached-property in /usr/local/lib/python3.7/dist-packages (from h5py) (1.5.2)\n"
          ]
        }
      ]
    },
    {
      "cell_type": "code",
      "source": [
        "checkpoint_path = \"training_1/cp.ckpt\"\n",
        "checkpoint_dir = os.path.dirname(checkpoint_path)\n",
        "\n",
        "cp_callback = tf.keras.callbacks.ModelCheckpoint(checkpoint_path,\n",
        "                                                 save_weights_only=True,\n",
        "                                                 verbose=1)\n",
        "model.fit(X_train, y_train, epochs=50, callbacks=[cp_callback])"
      ],
      "metadata": {
        "colab": {
          "base_uri": "https://localhost:8080/"
        },
        "id": "zgie3MVrSNk_",
        "outputId": "095e7de0-7ab9-4d1b-abe2-4b0f334f661e"
      },
      "execution_count": null,
      "outputs": [
        {
          "output_type": "stream",
          "name": "stdout",
          "text": [
            "Epoch 1/50\n",
            "47/49 [===========================>..] - ETA: 0s - loss: 0.0772 - accuracy: 0.9674 - precision: 0.9674 - recall: 0.9674\n",
            "Epoch 1: saving model to training_1/cp.ckpt\n",
            "49/49 [==============================] - 0s 10ms/step - loss: 0.0761 - accuracy: 0.9682 - precision: 0.9682 - recall: 0.9682\n",
            "Epoch 2/50\n",
            "49/49 [==============================] - ETA: 0s - loss: 0.0788 - accuracy: 0.9695 - precision: 0.9695 - recall: 0.9695\n",
            "Epoch 2: saving model to training_1/cp.ckpt\n",
            "49/49 [==============================] - 0s 5ms/step - loss: 0.0788 - accuracy: 0.9695 - precision: 0.9695 - recall: 0.9695\n",
            "Epoch 3/50\n",
            "37/49 [=====================>........] - ETA: 0s - loss: 0.0906 - accuracy: 0.9721 - precision: 0.9746 - recall: 0.9721\n",
            "Epoch 3: saving model to training_1/cp.ckpt\n",
            "49/49 [==============================] - 0s 5ms/step - loss: 0.0929 - accuracy: 0.9708 - precision: 0.9727 - recall: 0.9701\n",
            "Epoch 4/50\n",
            "47/49 [===========================>..] - ETA: 0s - loss: 0.0667 - accuracy: 0.9707 - precision: 0.9720 - recall: 0.9694\n",
            "Epoch 4: saving model to training_1/cp.ckpt\n",
            "49/49 [==============================] - 0s 4ms/step - loss: 0.0667 - accuracy: 0.9708 - precision: 0.9720 - recall: 0.9695\n",
            "Epoch 5/50\n",
            "48/49 [============================>.] - ETA: 0s - loss: 0.0585 - accuracy: 0.9785 - precision: 0.9785 - recall: 0.9772\n",
            "Epoch 5: saving model to training_1/cp.ckpt\n",
            "49/49 [==============================] - 0s 4ms/step - loss: 0.0584 - accuracy: 0.9786 - precision: 0.9785 - recall: 0.9773\n",
            "Epoch 6/50\n",
            "44/49 [=========================>....] - ETA: 0s - loss: 0.0825 - accuracy: 0.9723 - precision: 0.9723 - recall: 0.9709\n",
            "Epoch 6: saving model to training_1/cp.ckpt\n",
            "49/49 [==============================] - 0s 4ms/step - loss: 0.0810 - accuracy: 0.9721 - precision: 0.9720 - recall: 0.9708\n",
            "Epoch 7/50\n",
            "42/49 [========================>.....] - ETA: 0s - loss: 0.1763 - accuracy: 0.9442 - precision: 0.9460 - recall: 0.9390\n",
            "Epoch 7: saving model to training_1/cp.ckpt\n",
            "49/49 [==============================] - 0s 4ms/step - loss: 0.1686 - accuracy: 0.9461 - precision: 0.9477 - recall: 0.9409\n",
            "Epoch 8/50\n",
            "47/49 [===========================>..] - ETA: 0s - loss: 0.0716 - accuracy: 0.9747 - precision: 0.9747 - recall: 0.9741\n",
            "Epoch 8: saving model to training_1/cp.ckpt\n",
            "49/49 [==============================] - 0s 5ms/step - loss: 0.0726 - accuracy: 0.9734 - precision: 0.9734 - recall: 0.9727\n",
            "Epoch 9/50\n",
            "43/49 [=========================>....] - ETA: 0s - loss: 0.0785 - accuracy: 0.9695 - precision: 0.9708 - recall: 0.9680\n",
            "Epoch 9: saving model to training_1/cp.ckpt\n",
            "49/49 [==============================] - 0s 4ms/step - loss: 0.0841 - accuracy: 0.9675 - precision: 0.9688 - recall: 0.9662\n",
            "Epoch 10/50\n",
            "44/49 [=========================>....] - ETA: 0s - loss: 0.0569 - accuracy: 0.9794 - precision: 0.9808 - recall: 0.9787\n",
            "Epoch 10: saving model to training_1/cp.ckpt\n",
            "49/49 [==============================] - 0s 4ms/step - loss: 0.0640 - accuracy: 0.9740 - precision: 0.9753 - recall: 0.9734\n",
            "Epoch 11/50\n",
            "41/49 [========================>.....] - ETA: 0s - loss: 0.0600 - accuracy: 0.9779 - precision: 0.9794 - recall: 0.9779\n",
            "Epoch 11: saving model to training_1/cp.ckpt\n",
            "49/49 [==============================] - 0s 4ms/step - loss: 0.0581 - accuracy: 0.9779 - precision: 0.9792 - recall: 0.9779\n",
            "Epoch 12/50\n",
            "45/49 [==========================>...] - ETA: 0s - loss: 0.0706 - accuracy: 0.9722 - precision: 0.9722 - recall: 0.9715\n",
            "Epoch 12: saving model to training_1/cp.ckpt\n",
            "49/49 [==============================] - 0s 4ms/step - loss: 0.0694 - accuracy: 0.9727 - precision: 0.9727 - recall: 0.9721\n",
            "Epoch 13/50\n",
            "45/49 [==========================>...] - ETA: 0s - loss: 0.0705 - accuracy: 0.9736 - precision: 0.9743 - recall: 0.9729\n",
            "Epoch 13: saving model to training_1/cp.ckpt\n",
            "49/49 [==============================] - 0s 4ms/step - loss: 0.0696 - accuracy: 0.9734 - precision: 0.9740 - recall: 0.9727\n",
            "Epoch 14/50\n",
            "42/49 [========================>.....] - ETA: 0s - loss: 0.0568 - accuracy: 0.9740 - precision: 0.9754 - recall: 0.9740\n",
            "Epoch 14: saving model to training_1/cp.ckpt\n",
            "49/49 [==============================] - 0s 4ms/step - loss: 0.0593 - accuracy: 0.9727 - precision: 0.9740 - recall: 0.9727\n",
            "Epoch 15/50\n",
            "45/49 [==========================>...] - ETA: 0s - loss: 0.0565 - accuracy: 0.9729 - precision: 0.9743 - recall: 0.9722\n",
            "Epoch 15: saving model to training_1/cp.ckpt\n",
            "49/49 [==============================] - 0s 4ms/step - loss: 0.0604 - accuracy: 0.9734 - precision: 0.9746 - recall: 0.9727\n",
            "Epoch 16/50\n",
            "43/49 [=========================>....] - ETA: 0s - loss: 0.1099 - accuracy: 0.9615 - precision: 0.9635 - recall: 0.9593\n",
            "Epoch 16: saving model to training_1/cp.ckpt\n",
            "49/49 [==============================] - 0s 4ms/step - loss: 0.1028 - accuracy: 0.9636 - precision: 0.9654 - recall: 0.9617\n",
            "Epoch 17/50\n",
            "36/49 [=====================>........] - ETA: 0s - loss: 0.0939 - accuracy: 0.9696 - precision: 0.9713 - recall: 0.9679\n",
            "Epoch 17: saving model to training_1/cp.ckpt\n",
            "49/49 [==============================] - 0s 5ms/step - loss: 0.0878 - accuracy: 0.9714 - precision: 0.9727 - recall: 0.9701\n",
            "Epoch 18/50\n",
            "40/49 [=======================>......] - ETA: 0s - loss: 0.0928 - accuracy: 0.9672 - precision: 0.9672 - recall: 0.9672\n",
            "Epoch 18: saving model to training_1/cp.ckpt\n",
            "49/49 [==============================] - 0s 4ms/step - loss: 0.0874 - accuracy: 0.9688 - precision: 0.9688 - recall: 0.9688\n",
            "Epoch 19/50\n",
            "42/49 [========================>.....] - ETA: 0s - loss: 0.0764 - accuracy: 0.9688 - precision: 0.9694 - recall: 0.9680\n",
            "Epoch 19: saving model to training_1/cp.ckpt\n",
            "49/49 [==============================] - 0s 4ms/step - loss: 0.0745 - accuracy: 0.9695 - precision: 0.9701 - recall: 0.9688\n",
            "Epoch 20/50\n",
            "39/49 [======================>.......] - ETA: 0s - loss: 0.0590 - accuracy: 0.9752 - precision: 0.9759 - recall: 0.9744\n",
            "Epoch 20: saving model to training_1/cp.ckpt\n",
            "49/49 [==============================] - 0s 4ms/step - loss: 0.0593 - accuracy: 0.9753 - precision: 0.9759 - recall: 0.9747\n",
            "Epoch 21/50\n",
            "39/49 [======================>.......] - ETA: 0s - loss: 0.0589 - accuracy: 0.9752 - precision: 0.9759 - recall: 0.9752\n",
            "Epoch 21: saving model to training_1/cp.ckpt\n",
            "49/49 [==============================] - 0s 5ms/step - loss: 0.0613 - accuracy: 0.9740 - precision: 0.9747 - recall: 0.9740\n",
            "Epoch 22/50\n",
            "37/49 [=====================>........] - ETA: 0s - loss: 0.0482 - accuracy: 0.9772 - precision: 0.9772 - recall: 0.9764\n",
            "Epoch 22: saving model to training_1/cp.ckpt\n",
            "49/49 [==============================] - 0s 5ms/step - loss: 0.0564 - accuracy: 0.9753 - precision: 0.9753 - recall: 0.9747\n",
            "Epoch 23/50\n",
            "42/49 [========================>.....] - ETA: 0s - loss: 0.0544 - accuracy: 0.9762 - precision: 0.9776 - recall: 0.9747\n",
            "Epoch 23: saving model to training_1/cp.ckpt\n",
            "49/49 [==============================] - 0s 4ms/step - loss: 0.0575 - accuracy: 0.9760 - precision: 0.9772 - recall: 0.9747\n",
            "Epoch 24/50\n",
            "43/49 [=========================>....] - ETA: 0s - loss: 0.0471 - accuracy: 0.9804 - precision: 0.9804 - recall: 0.9804\n",
            "Epoch 24: saving model to training_1/cp.ckpt\n",
            "49/49 [==============================] - 0s 4ms/step - loss: 0.0462 - accuracy: 0.9799 - precision: 0.9799 - recall: 0.9799\n",
            "Epoch 25/50\n",
            "42/49 [========================>.....] - ETA: 0s - loss: 0.0928 - accuracy: 0.9702 - precision: 0.9702 - recall: 0.9702\n",
            "Epoch 25: saving model to training_1/cp.ckpt\n",
            "49/49 [==============================] - 0s 4ms/step - loss: 0.0975 - accuracy: 0.9682 - precision: 0.9682 - recall: 0.9682\n",
            "Epoch 26/50\n",
            "41/49 [========================>.....] - ETA: 0s - loss: 0.0650 - accuracy: 0.9771 - precision: 0.9779 - recall: 0.9764\n",
            "Epoch 26: saving model to training_1/cp.ckpt\n",
            "49/49 [==============================] - 0s 5ms/step - loss: 0.0735 - accuracy: 0.9747 - precision: 0.9753 - recall: 0.9740\n",
            "Epoch 27/50\n",
            "42/49 [========================>.....] - ETA: 0s - loss: 0.2055 - accuracy: 0.9516 - precision: 0.9544 - recall: 0.9501\n",
            "Epoch 27: saving model to training_1/cp.ckpt\n",
            "49/49 [==============================] - 0s 4ms/step - loss: 0.1863 - accuracy: 0.9552 - precision: 0.9583 - recall: 0.9539\n",
            "Epoch 28/50\n",
            "42/49 [========================>.....] - ETA: 0s - loss: 0.0696 - accuracy: 0.9732 - precision: 0.9732 - recall: 0.9717\n",
            "Epoch 28: saving model to training_1/cp.ckpt\n",
            "49/49 [==============================] - 0s 4ms/step - loss: 0.0654 - accuracy: 0.9747 - precision: 0.9746 - recall: 0.9734\n",
            "Epoch 29/50\n",
            "43/49 [=========================>....] - ETA: 0s - loss: 0.0750 - accuracy: 0.9746 - precision: 0.9753 - recall: 0.9738\n",
            "Epoch 29: saving model to training_1/cp.ckpt\n",
            "49/49 [==============================] - 0s 4ms/step - loss: 0.0752 - accuracy: 0.9747 - precision: 0.9753 - recall: 0.9740\n",
            "Epoch 30/50\n",
            "43/49 [=========================>....] - ETA: 0s - loss: 0.0768 - accuracy: 0.9688 - precision: 0.9688 - recall: 0.9688\n",
            "Epoch 30: saving model to training_1/cp.ckpt\n",
            "49/49 [==============================] - 0s 4ms/step - loss: 0.0766 - accuracy: 0.9675 - precision: 0.9675 - recall: 0.9675\n",
            "Epoch 31/50\n",
            "42/49 [========================>.....] - ETA: 0s - loss: 0.0756 - accuracy: 0.9725 - precision: 0.9732 - recall: 0.9710\n",
            "Epoch 31: saving model to training_1/cp.ckpt\n",
            "49/49 [==============================] - 0s 4ms/step - loss: 0.0785 - accuracy: 0.9714 - precision: 0.9720 - recall: 0.9701\n",
            "Epoch 32/50\n",
            "42/49 [========================>.....] - ETA: 0s - loss: 0.0881 - accuracy: 0.9613 - precision: 0.9620 - recall: 0.9613\n",
            "Epoch 32: saving model to training_1/cp.ckpt\n",
            "49/49 [==============================] - 0s 4ms/step - loss: 0.0941 - accuracy: 0.9597 - precision: 0.9604 - recall: 0.9597\n",
            "Epoch 33/50\n",
            "43/49 [=========================>....] - ETA: 0s - loss: 0.0752 - accuracy: 0.9731 - precision: 0.9745 - recall: 0.9717\n",
            "Epoch 33: saving model to training_1/cp.ckpt\n",
            "49/49 [==============================] - 0s 4ms/step - loss: 0.0756 - accuracy: 0.9727 - precision: 0.9740 - recall: 0.9714\n",
            "Epoch 34/50\n",
            "43/49 [=========================>....] - ETA: 0s - loss: 0.0564 - accuracy: 0.9767 - precision: 0.9767 - recall: 0.9767\n",
            "Epoch 34: saving model to training_1/cp.ckpt\n",
            "49/49 [==============================] - 0s 4ms/step - loss: 0.0581 - accuracy: 0.9766 - precision: 0.9766 - recall: 0.9766\n",
            "Epoch 35/50\n",
            "39/49 [======================>.......] - ETA: 0s - loss: 0.0692 - accuracy: 0.9808 - precision: 0.9823 - recall: 0.9808\n",
            "Epoch 35: saving model to training_1/cp.ckpt\n",
            "49/49 [==============================] - 0s 5ms/step - loss: 0.0703 - accuracy: 0.9792 - precision: 0.9805 - recall: 0.9792\n",
            "Epoch 36/50\n",
            "44/49 [=========================>....] - ETA: 0s - loss: 0.0966 - accuracy: 0.9666 - precision: 0.9687 - recall: 0.9659\n",
            "Epoch 36: saving model to training_1/cp.ckpt\n",
            "49/49 [==============================] - 0s 4ms/step - loss: 0.0993 - accuracy: 0.9656 - precision: 0.9674 - recall: 0.9643\n",
            "Epoch 37/50\n",
            "43/49 [=========================>....] - ETA: 0s - loss: 0.0710 - accuracy: 0.9746 - precision: 0.9745 - recall: 0.9738\n",
            "Epoch 37: saving model to training_1/cp.ckpt\n",
            "49/49 [==============================] - 0s 4ms/step - loss: 0.0738 - accuracy: 0.9727 - precision: 0.9727 - recall: 0.9721\n",
            "Epoch 38/50\n",
            "42/49 [========================>.....] - ETA: 0s - loss: 0.0437 - accuracy: 0.9859 - precision: 0.9859 - recall: 0.9859\n",
            "Epoch 38: saving model to training_1/cp.ckpt\n",
            "49/49 [==============================] - 0s 4ms/step - loss: 0.0456 - accuracy: 0.9851 - precision: 0.9851 - recall: 0.9851\n",
            "Epoch 39/50\n",
            "45/49 [==========================>...] - ETA: 0s - loss: 0.0595 - accuracy: 0.9812 - precision: 0.9812 - recall: 0.9812\n",
            "Epoch 39: saving model to training_1/cp.ckpt\n",
            "49/49 [==============================] - 0s 4ms/step - loss: 0.0589 - accuracy: 0.9818 - precision: 0.9818 - recall: 0.9818\n",
            "Epoch 40/50\n",
            "42/49 [========================>.....] - ETA: 0s - loss: 0.0830 - accuracy: 0.9710 - precision: 0.9724 - recall: 0.9702\n",
            "Epoch 40: saving model to training_1/cp.ckpt\n",
            "49/49 [==============================] - 0s 4ms/step - loss: 0.0778 - accuracy: 0.9721 - precision: 0.9733 - recall: 0.9714\n",
            "Epoch 41/50\n",
            "43/49 [=========================>....] - ETA: 0s - loss: 0.0835 - accuracy: 0.9658 - precision: 0.9665 - recall: 0.9658\n",
            "Epoch 41: saving model to training_1/cp.ckpt\n",
            "49/49 [==============================] - 0s 4ms/step - loss: 0.0790 - accuracy: 0.9688 - precision: 0.9695 - recall: 0.9688\n",
            "Epoch 42/50\n",
            "43/49 [=========================>....] - ETA: 0s - loss: 0.0648 - accuracy: 0.9746 - precision: 0.9745 - recall: 0.9738\n",
            "Epoch 42: saving model to training_1/cp.ckpt\n",
            "49/49 [==============================] - 0s 4ms/step - loss: 0.0683 - accuracy: 0.9753 - precision: 0.9753 - recall: 0.9747\n",
            "Epoch 43/50\n",
            "45/49 [==========================>...] - ETA: 0s - loss: 0.0524 - accuracy: 0.9785 - precision: 0.9785 - recall: 0.9785\n",
            "Epoch 43: saving model to training_1/cp.ckpt\n",
            "49/49 [==============================] - 0s 4ms/step - loss: 0.0516 - accuracy: 0.9786 - precision: 0.9786 - recall: 0.9786\n",
            "Epoch 44/50\n",
            "42/49 [========================>.....] - ETA: 0s - loss: 0.0520 - accuracy: 0.9792 - precision: 0.9792 - recall: 0.9792\n",
            "Epoch 44: saving model to training_1/cp.ckpt\n",
            "49/49 [==============================] - 0s 4ms/step - loss: 0.0577 - accuracy: 0.9786 - precision: 0.9786 - recall: 0.9786\n",
            "Epoch 45/50\n",
            "45/49 [==========================>...] - ETA: 0s - loss: 0.1760 - accuracy: 0.9375 - precision: 0.9406 - recall: 0.9347\n",
            "Epoch 45: saving model to training_1/cp.ckpt\n",
            "49/49 [==============================] - 0s 4ms/step - loss: 0.1776 - accuracy: 0.9370 - precision: 0.9399 - recall: 0.9344\n",
            "Epoch 46/50\n",
            "44/49 [=========================>....] - ETA: 0s - loss: 0.1079 - accuracy: 0.9581 - precision: 0.9615 - recall: 0.9567\n",
            "Epoch 46: saving model to training_1/cp.ckpt\n",
            "49/49 [==============================] - 0s 4ms/step - loss: 0.1026 - accuracy: 0.9610 - precision: 0.9641 - recall: 0.9597\n",
            "Epoch 47/50\n",
            "47/49 [===========================>..] - ETA: 0s - loss: 0.0629 - accuracy: 0.9741 - precision: 0.9741 - recall: 0.9734\n",
            "Epoch 47: saving model to training_1/cp.ckpt\n",
            "49/49 [==============================] - 0s 4ms/step - loss: 0.0630 - accuracy: 0.9747 - precision: 0.9747 - recall: 0.9740\n",
            "Epoch 48/50\n",
            "44/49 [=========================>....] - ETA: 0s - loss: 0.0645 - accuracy: 0.9773 - precision: 0.9786 - recall: 0.9751\n",
            "Epoch 48: saving model to training_1/cp.ckpt\n",
            "49/49 [==============================] - 0s 4ms/step - loss: 0.0652 - accuracy: 0.9773 - precision: 0.9785 - recall: 0.9753\n",
            "Epoch 49/50\n",
            "41/49 [========================>.....] - ETA: 0s - loss: 0.0415 - accuracy: 0.9855 - precision: 0.9863 - recall: 0.9855\n",
            "Epoch 49: saving model to training_1/cp.ckpt\n",
            "49/49 [==============================] - 0s 5ms/step - loss: 0.0462 - accuracy: 0.9831 - precision: 0.9838 - recall: 0.9831\n",
            "Epoch 50/50\n",
            "47/49 [===========================>..] - ETA: 0s - loss: 0.0562 - accuracy: 0.9767 - precision: 0.9767 - recall: 0.9767\n",
            "Epoch 50: saving model to training_1/cp.ckpt\n",
            "49/49 [==============================] - 0s 4ms/step - loss: 0.0558 - accuracy: 0.9766 - precision: 0.9766 - recall: 0.9766\n"
          ]
        },
        {
          "output_type": "execute_result",
          "data": {
            "text/plain": [
              "<keras.callbacks.History at 0x7f15d03bebd0>"
            ]
          },
          "metadata": {},
          "execution_count": 33
        }
      ]
    },
    {
      "cell_type": "code",
      "source": [
        "!ls {checkpoint_dir}"
      ],
      "metadata": {
        "colab": {
          "base_uri": "https://localhost:8080/"
        },
        "id": "WkCVd27eUHmw",
        "outputId": "22f856bd-eb1f-44a6-97d7-dfce87d3aa2e"
      },
      "execution_count": null,
      "outputs": [
        {
          "output_type": "stream",
          "name": "stdout",
          "text": [
            "checkpoint  cp.ckpt.data-00000-of-00001  cp.ckpt.index\n"
          ]
        }
      ]
    },
    {
      "cell_type": "code",
      "source": [
        "score = model.evaluate(X_test, y_test, batch_size=128)"
      ],
      "metadata": {
        "id": "XYLgsCTKwMwr",
        "colab": {
          "base_uri": "https://localhost:8080/"
        },
        "outputId": "e8e98748-ae61-4084-e2ab-8da6a88b138e"
      },
      "execution_count": null,
      "outputs": [
        {
          "output_type": "stream",
          "name": "stdout",
          "text": [
            "6/6 [==============================] - 1s 4ms/step - loss: 0.1556 - accuracy: 0.9515 - precision: 0.9528 - recall: 0.9485\n"
          ]
        }
      ]
    },
    {
      "cell_type": "code",
      "source": [
        "model.metrics_names"
      ],
      "metadata": {
        "colab": {
          "base_uri": "https://localhost:8080/"
        },
        "id": "v1F1Pt_AKvu1",
        "outputId": "5bdec638-9ef2-4667-a020-e50ecc148d37"
      },
      "execution_count": null,
      "outputs": [
        {
          "output_type": "execute_result",
          "data": {
            "text/plain": [
              "['loss', 'accuracy', 'precision', 'recall']"
            ]
          },
          "metadata": {},
          "execution_count": 22
        }
      ]
    },
    {
      "cell_type": "code",
      "source": [
        "score"
      ],
      "metadata": {
        "colab": {
          "base_uri": "https://localhost:8080/"
        },
        "id": "dHqwc70dK1Wk",
        "outputId": "7ea8a0f7-b5de-46c4-b6c1-ae9e4ec20037"
      },
      "execution_count": null,
      "outputs": [
        {
          "output_type": "execute_result",
          "data": {
            "text/plain": [
              "[0.15561270713806152, 0.9515151381492615, 0.95281583070755, 0.9484848380088806]"
            ]
          },
          "metadata": {},
          "execution_count": 23
        }
      ]
    },
    {
      "cell_type": "code",
      "source": [
        "y_pred = model.predict(X_test)\n",
        "y_pred"
      ],
      "metadata": {
        "colab": {
          "base_uri": "https://localhost:8080/"
        },
        "id": "ejoElWvFK5zd",
        "outputId": "86659b39-f87d-498d-87c2-8d40bf9d4fbc"
      },
      "execution_count": null,
      "outputs": [
        {
          "output_type": "stream",
          "name": "stdout",
          "text": [
            "21/21 [==============================] - 0s 2ms/step\n"
          ]
        },
        {
          "output_type": "execute_result",
          "data": {
            "text/plain": [
              "array([[1.7848370e-10, 6.1094088e-14, 9.3276584e-12, ..., 1.5381261e-11,\n",
              "        2.4209465e-12, 6.7335640e-07],\n",
              "       [4.4990656e-09, 1.0073225e-08, 8.2380298e-15, ..., 1.5609984e-07,\n",
              "        1.9910946e-12, 9.9999660e-01],\n",
              "       [9.1303818e-06, 2.7494702e-08, 1.8589284e-10, ..., 4.9502319e-06,\n",
              "        1.9417597e-10, 3.5347441e-07],\n",
              "       ...,\n",
              "       [5.2446367e-06, 2.3476703e-08, 3.0146188e-11, ..., 1.8284156e-05,\n",
              "        1.1814838e-10, 3.5053120e-06],\n",
              "       [3.3940123e-06, 9.4356773e-07, 7.8075853e-12, ..., 8.5951989e-11,\n",
              "        5.0242899e-13, 3.4041747e-08],\n",
              "       [5.0101518e-09, 2.1778970e-08, 1.5660577e-13, ..., 4.8628648e-09,\n",
              "        1.1153761e-11, 9.9998629e-01]], dtype=float32)"
            ]
          },
          "metadata": {},
          "execution_count": 26
        }
      ]
    },
    {
      "cell_type": "code",
      "source": [
        "predicted = np.argmax(y_pred, axis=1)"
      ],
      "metadata": {
        "id": "u3kejFh5NcDr"
      },
      "execution_count": null,
      "outputs": []
    },
    {
      "cell_type": "code",
      "source": [
        "def get_crop_name(val):\n",
        "  for key, value in label_mapping.items():\n",
        "    if value == val:\n",
        "      return key\n",
        "print(get_crop_name(predicted[0]))"
      ],
      "metadata": {
        "colab": {
          "base_uri": "https://localhost:8080/"
        },
        "id": "b7LkayDZvYak",
        "outputId": "b87f9880-87af-4d63-caa5-ddff1a4e98fa"
      },
      "execution_count": null,
      "outputs": [
        {
          "output_type": "stream",
          "name": "stdout",
          "text": [
            "muskmelon\n"
          ]
        }
      ]
    },
    {
      "cell_type": "code",
      "source": [],
      "metadata": {
        "id": "Ky9U51W9RSkm"
      },
      "execution_count": null,
      "outputs": []
    }
  ]
}